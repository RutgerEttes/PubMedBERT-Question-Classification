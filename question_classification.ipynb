{
  "nbformat": 4,
  "nbformat_minor": 0,
  "metadata": {
    "accelerator": "GPU",
    "colab": {
      "name": "question classification.ipynb",
      "provenance": [],
      "collapsed_sections": [],
      "include_colab_link": true
    },
    "kernelspec": {
      "display_name": "Python 3",
      "name": "python3"
    },
    "widgets": {
      "application/vnd.jupyter.widget-state+json": {
        "1d1e77e1f2964476bdeecd3add3fa383": {
          "model_module": "@jupyter-widgets/controls",
          "model_name": "HBoxModel",
          "state": {
            "_view_name": "HBoxView",
            "_dom_classes": [],
            "_model_name": "HBoxModel",
            "_view_module": "@jupyter-widgets/controls",
            "_model_module_version": "1.5.0",
            "_view_count": null,
            "_view_module_version": "1.5.0",
            "box_style": "",
            "layout": "IPY_MODEL_5ef05c696e2e46e998009c6f88fd8ffe",
            "_model_module": "@jupyter-widgets/controls",
            "children": [
              "IPY_MODEL_ce5ae8d358a84f7cbb1d0003c8d1c9aa",
              "IPY_MODEL_10fc830b748e41b3a965d26540d5b6e9"
            ]
          }
        },
        "5ef05c696e2e46e998009c6f88fd8ffe": {
          "model_module": "@jupyter-widgets/base",
          "model_name": "LayoutModel",
          "state": {
            "_view_name": "LayoutView",
            "grid_template_rows": null,
            "right": null,
            "justify_content": null,
            "_view_module": "@jupyter-widgets/base",
            "overflow": null,
            "_model_module_version": "1.2.0",
            "_view_count": null,
            "flex_flow": null,
            "width": null,
            "min_width": null,
            "border": null,
            "align_items": null,
            "bottom": null,
            "_model_module": "@jupyter-widgets/base",
            "top": null,
            "grid_column": null,
            "overflow_y": null,
            "overflow_x": null,
            "grid_auto_flow": null,
            "grid_area": null,
            "grid_template_columns": null,
            "flex": null,
            "_model_name": "LayoutModel",
            "justify_items": null,
            "grid_row": null,
            "max_height": null,
            "align_content": null,
            "visibility": null,
            "align_self": null,
            "height": null,
            "min_height": null,
            "padding": null,
            "grid_auto_rows": null,
            "grid_gap": null,
            "max_width": null,
            "order": null,
            "_view_module_version": "1.2.0",
            "grid_template_areas": null,
            "object_position": null,
            "object_fit": null,
            "grid_auto_columns": null,
            "margin": null,
            "display": null,
            "left": null
          }
        },
        "ce5ae8d358a84f7cbb1d0003c8d1c9aa": {
          "model_module": "@jupyter-widgets/controls",
          "model_name": "FloatProgressModel",
          "state": {
            "_view_name": "ProgressView",
            "style": "IPY_MODEL_e6edf76d36d1475cbdbd0b35bacbacdc",
            "_dom_classes": [],
            "description": "Downloading: 100%",
            "_model_name": "FloatProgressModel",
            "bar_style": "success",
            "max": 337,
            "_view_module": "@jupyter-widgets/controls",
            "_model_module_version": "1.5.0",
            "value": 337,
            "_view_count": null,
            "_view_module_version": "1.5.0",
            "orientation": "horizontal",
            "min": 0,
            "description_tooltip": null,
            "_model_module": "@jupyter-widgets/controls",
            "layout": "IPY_MODEL_505ccdc0f318411f8eacd935cf24600c"
          }
        },
        "10fc830b748e41b3a965d26540d5b6e9": {
          "model_module": "@jupyter-widgets/controls",
          "model_name": "HTMLModel",
          "state": {
            "_view_name": "HTMLView",
            "style": "IPY_MODEL_d6b4c2683b0f465cb8edc6d4acfee609",
            "_dom_classes": [],
            "description": "",
            "_model_name": "HTMLModel",
            "placeholder": "​",
            "_view_module": "@jupyter-widgets/controls",
            "_model_module_version": "1.5.0",
            "value": " 337/337 [00:00&lt;00:00, 1.53kB/s]",
            "_view_count": null,
            "_view_module_version": "1.5.0",
            "description_tooltip": null,
            "_model_module": "@jupyter-widgets/controls",
            "layout": "IPY_MODEL_ce3cd38c4d07450fa00bc00db461e96b"
          }
        },
        "e6edf76d36d1475cbdbd0b35bacbacdc": {
          "model_module": "@jupyter-widgets/controls",
          "model_name": "ProgressStyleModel",
          "state": {
            "_view_name": "StyleView",
            "_model_name": "ProgressStyleModel",
            "description_width": "initial",
            "_view_module": "@jupyter-widgets/base",
            "_model_module_version": "1.5.0",
            "_view_count": null,
            "_view_module_version": "1.2.0",
            "bar_color": null,
            "_model_module": "@jupyter-widgets/controls"
          }
        },
        "505ccdc0f318411f8eacd935cf24600c": {
          "model_module": "@jupyter-widgets/base",
          "model_name": "LayoutModel",
          "state": {
            "_view_name": "LayoutView",
            "grid_template_rows": null,
            "right": null,
            "justify_content": null,
            "_view_module": "@jupyter-widgets/base",
            "overflow": null,
            "_model_module_version": "1.2.0",
            "_view_count": null,
            "flex_flow": null,
            "width": null,
            "min_width": null,
            "border": null,
            "align_items": null,
            "bottom": null,
            "_model_module": "@jupyter-widgets/base",
            "top": null,
            "grid_column": null,
            "overflow_y": null,
            "overflow_x": null,
            "grid_auto_flow": null,
            "grid_area": null,
            "grid_template_columns": null,
            "flex": null,
            "_model_name": "LayoutModel",
            "justify_items": null,
            "grid_row": null,
            "max_height": null,
            "align_content": null,
            "visibility": null,
            "align_self": null,
            "height": null,
            "min_height": null,
            "padding": null,
            "grid_auto_rows": null,
            "grid_gap": null,
            "max_width": null,
            "order": null,
            "_view_module_version": "1.2.0",
            "grid_template_areas": null,
            "object_position": null,
            "object_fit": null,
            "grid_auto_columns": null,
            "margin": null,
            "display": null,
            "left": null
          }
        },
        "d6b4c2683b0f465cb8edc6d4acfee609": {
          "model_module": "@jupyter-widgets/controls",
          "model_name": "DescriptionStyleModel",
          "state": {
            "_view_name": "StyleView",
            "_model_name": "DescriptionStyleModel",
            "description_width": "",
            "_view_module": "@jupyter-widgets/base",
            "_model_module_version": "1.5.0",
            "_view_count": null,
            "_view_module_version": "1.2.0",
            "_model_module": "@jupyter-widgets/controls"
          }
        },
        "ce3cd38c4d07450fa00bc00db461e96b": {
          "model_module": "@jupyter-widgets/base",
          "model_name": "LayoutModel",
          "state": {
            "_view_name": "LayoutView",
            "grid_template_rows": null,
            "right": null,
            "justify_content": null,
            "_view_module": "@jupyter-widgets/base",
            "overflow": null,
            "_model_module_version": "1.2.0",
            "_view_count": null,
            "flex_flow": null,
            "width": null,
            "min_width": null,
            "border": null,
            "align_items": null,
            "bottom": null,
            "_model_module": "@jupyter-widgets/base",
            "top": null,
            "grid_column": null,
            "overflow_y": null,
            "overflow_x": null,
            "grid_auto_flow": null,
            "grid_area": null,
            "grid_template_columns": null,
            "flex": null,
            "_model_name": "LayoutModel",
            "justify_items": null,
            "grid_row": null,
            "max_height": null,
            "align_content": null,
            "visibility": null,
            "align_self": null,
            "height": null,
            "min_height": null,
            "padding": null,
            "grid_auto_rows": null,
            "grid_gap": null,
            "max_width": null,
            "order": null,
            "_view_module_version": "1.2.0",
            "grid_template_areas": null,
            "object_position": null,
            "object_fit": null,
            "grid_auto_columns": null,
            "margin": null,
            "display": null,
            "left": null
          }
        },
        "c26fe643476a4b379ce8e7d997e7b955": {
          "model_module": "@jupyter-widgets/controls",
          "model_name": "HBoxModel",
          "state": {
            "_view_name": "HBoxView",
            "_dom_classes": [],
            "_model_name": "HBoxModel",
            "_view_module": "@jupyter-widgets/controls",
            "_model_module_version": "1.5.0",
            "_view_count": null,
            "_view_module_version": "1.5.0",
            "box_style": "",
            "layout": "IPY_MODEL_c5ef1e1b13ae4105b156bdd9315bced7",
            "_model_module": "@jupyter-widgets/controls",
            "children": [
              "IPY_MODEL_72bbcb8bdc71492ea71e50fe27265b5a",
              "IPY_MODEL_84b3a8d4286f49cc89ac93990ca40655"
            ]
          }
        },
        "c5ef1e1b13ae4105b156bdd9315bced7": {
          "model_module": "@jupyter-widgets/base",
          "model_name": "LayoutModel",
          "state": {
            "_view_name": "LayoutView",
            "grid_template_rows": null,
            "right": null,
            "justify_content": null,
            "_view_module": "@jupyter-widgets/base",
            "overflow": null,
            "_model_module_version": "1.2.0",
            "_view_count": null,
            "flex_flow": null,
            "width": null,
            "min_width": null,
            "border": null,
            "align_items": null,
            "bottom": null,
            "_model_module": "@jupyter-widgets/base",
            "top": null,
            "grid_column": null,
            "overflow_y": null,
            "overflow_x": null,
            "grid_auto_flow": null,
            "grid_area": null,
            "grid_template_columns": null,
            "flex": null,
            "_model_name": "LayoutModel",
            "justify_items": null,
            "grid_row": null,
            "max_height": null,
            "align_content": null,
            "visibility": null,
            "align_self": null,
            "height": null,
            "min_height": null,
            "padding": null,
            "grid_auto_rows": null,
            "grid_gap": null,
            "max_width": null,
            "order": null,
            "_view_module_version": "1.2.0",
            "grid_template_areas": null,
            "object_position": null,
            "object_fit": null,
            "grid_auto_columns": null,
            "margin": null,
            "display": null,
            "left": null
          }
        },
        "72bbcb8bdc71492ea71e50fe27265b5a": {
          "model_module": "@jupyter-widgets/controls",
          "model_name": "FloatProgressModel",
          "state": {
            "_view_name": "ProgressView",
            "style": "IPY_MODEL_dfa83f71ca4547f4a1421b6683d66966",
            "_dom_classes": [],
            "description": "Downloading: 100%",
            "_model_name": "FloatProgressModel",
            "bar_style": "success",
            "max": 226150,
            "_view_module": "@jupyter-widgets/controls",
            "_model_module_version": "1.5.0",
            "value": 226150,
            "_view_count": null,
            "_view_module_version": "1.5.0",
            "orientation": "horizontal",
            "min": 0,
            "description_tooltip": null,
            "_model_module": "@jupyter-widgets/controls",
            "layout": "IPY_MODEL_ed143f7f43a345729eecd852402ff168"
          }
        },
        "84b3a8d4286f49cc89ac93990ca40655": {
          "model_module": "@jupyter-widgets/controls",
          "model_name": "HTMLModel",
          "state": {
            "_view_name": "HTMLView",
            "style": "IPY_MODEL_c80e96bb770e4e598f12214f26eeee1d",
            "_dom_classes": [],
            "description": "",
            "_model_name": "HTMLModel",
            "placeholder": "​",
            "_view_module": "@jupyter-widgets/controls",
            "_model_module_version": "1.5.0",
            "value": " 226k/226k [00:00&lt;00:00, 1.68MB/s]",
            "_view_count": null,
            "_view_module_version": "1.5.0",
            "description_tooltip": null,
            "_model_module": "@jupyter-widgets/controls",
            "layout": "IPY_MODEL_bc5ed9082ba849128d61a7c17140e32e"
          }
        },
        "dfa83f71ca4547f4a1421b6683d66966": {
          "model_module": "@jupyter-widgets/controls",
          "model_name": "ProgressStyleModel",
          "state": {
            "_view_name": "StyleView",
            "_model_name": "ProgressStyleModel",
            "description_width": "initial",
            "_view_module": "@jupyter-widgets/base",
            "_model_module_version": "1.5.0",
            "_view_count": null,
            "_view_module_version": "1.2.0",
            "bar_color": null,
            "_model_module": "@jupyter-widgets/controls"
          }
        },
        "ed143f7f43a345729eecd852402ff168": {
          "model_module": "@jupyter-widgets/base",
          "model_name": "LayoutModel",
          "state": {
            "_view_name": "LayoutView",
            "grid_template_rows": null,
            "right": null,
            "justify_content": null,
            "_view_module": "@jupyter-widgets/base",
            "overflow": null,
            "_model_module_version": "1.2.0",
            "_view_count": null,
            "flex_flow": null,
            "width": null,
            "min_width": null,
            "border": null,
            "align_items": null,
            "bottom": null,
            "_model_module": "@jupyter-widgets/base",
            "top": null,
            "grid_column": null,
            "overflow_y": null,
            "overflow_x": null,
            "grid_auto_flow": null,
            "grid_area": null,
            "grid_template_columns": null,
            "flex": null,
            "_model_name": "LayoutModel",
            "justify_items": null,
            "grid_row": null,
            "max_height": null,
            "align_content": null,
            "visibility": null,
            "align_self": null,
            "height": null,
            "min_height": null,
            "padding": null,
            "grid_auto_rows": null,
            "grid_gap": null,
            "max_width": null,
            "order": null,
            "_view_module_version": "1.2.0",
            "grid_template_areas": null,
            "object_position": null,
            "object_fit": null,
            "grid_auto_columns": null,
            "margin": null,
            "display": null,
            "left": null
          }
        },
        "c80e96bb770e4e598f12214f26eeee1d": {
          "model_module": "@jupyter-widgets/controls",
          "model_name": "DescriptionStyleModel",
          "state": {
            "_view_name": "StyleView",
            "_model_name": "DescriptionStyleModel",
            "description_width": "",
            "_view_module": "@jupyter-widgets/base",
            "_model_module_version": "1.5.0",
            "_view_count": null,
            "_view_module_version": "1.2.0",
            "_model_module": "@jupyter-widgets/controls"
          }
        },
        "bc5ed9082ba849128d61a7c17140e32e": {
          "model_module": "@jupyter-widgets/base",
          "model_name": "LayoutModel",
          "state": {
            "_view_name": "LayoutView",
            "grid_template_rows": null,
            "right": null,
            "justify_content": null,
            "_view_module": "@jupyter-widgets/base",
            "overflow": null,
            "_model_module_version": "1.2.0",
            "_view_count": null,
            "flex_flow": null,
            "width": null,
            "min_width": null,
            "border": null,
            "align_items": null,
            "bottom": null,
            "_model_module": "@jupyter-widgets/base",
            "top": null,
            "grid_column": null,
            "overflow_y": null,
            "overflow_x": null,
            "grid_auto_flow": null,
            "grid_area": null,
            "grid_template_columns": null,
            "flex": null,
            "_model_name": "LayoutModel",
            "justify_items": null,
            "grid_row": null,
            "max_height": null,
            "align_content": null,
            "visibility": null,
            "align_self": null,
            "height": null,
            "min_height": null,
            "padding": null,
            "grid_auto_rows": null,
            "grid_gap": null,
            "max_width": null,
            "order": null,
            "_view_module_version": "1.2.0",
            "grid_template_areas": null,
            "object_position": null,
            "object_fit": null,
            "grid_auto_columns": null,
            "margin": null,
            "display": null,
            "left": null
          }
        },
        "acbd4d8d3d8a4bac8240a4dfc7db1af7": {
          "model_module": "@jupyter-widgets/controls",
          "model_name": "HBoxModel",
          "state": {
            "_view_name": "HBoxView",
            "_dom_classes": [],
            "_model_name": "HBoxModel",
            "_view_module": "@jupyter-widgets/controls",
            "_model_module_version": "1.5.0",
            "_view_count": null,
            "_view_module_version": "1.5.0",
            "box_style": "",
            "layout": "IPY_MODEL_68f4b4a712144116aaec20cac1e867f3",
            "_model_module": "@jupyter-widgets/controls",
            "children": [
              "IPY_MODEL_3db024fd8e8c450387277fac1fadf050",
              "IPY_MODEL_4917e04e62014df1b973a762c18191cd"
            ]
          }
        },
        "68f4b4a712144116aaec20cac1e867f3": {
          "model_module": "@jupyter-widgets/base",
          "model_name": "LayoutModel",
          "state": {
            "_view_name": "LayoutView",
            "grid_template_rows": null,
            "right": null,
            "justify_content": null,
            "_view_module": "@jupyter-widgets/base",
            "overflow": null,
            "_model_module_version": "1.2.0",
            "_view_count": null,
            "flex_flow": null,
            "width": null,
            "min_width": null,
            "border": null,
            "align_items": null,
            "bottom": null,
            "_model_module": "@jupyter-widgets/base",
            "top": null,
            "grid_column": null,
            "overflow_y": null,
            "overflow_x": null,
            "grid_auto_flow": null,
            "grid_area": null,
            "grid_template_columns": null,
            "flex": null,
            "_model_name": "LayoutModel",
            "justify_items": null,
            "grid_row": null,
            "max_height": null,
            "align_content": null,
            "visibility": null,
            "align_self": null,
            "height": null,
            "min_height": null,
            "padding": null,
            "grid_auto_rows": null,
            "grid_gap": null,
            "max_width": null,
            "order": null,
            "_view_module_version": "1.2.0",
            "grid_template_areas": null,
            "object_position": null,
            "object_fit": null,
            "grid_auto_columns": null,
            "margin": null,
            "display": null,
            "left": null
          }
        },
        "3db024fd8e8c450387277fac1fadf050": {
          "model_module": "@jupyter-widgets/controls",
          "model_name": "FloatProgressModel",
          "state": {
            "_view_name": "ProgressView",
            "style": "IPY_MODEL_0073a183974c411ca04b8c474e743524",
            "_dom_classes": [],
            "description": "Downloading: 100%",
            "_model_name": "FloatProgressModel",
            "bar_style": "success",
            "max": 440472042,
            "_view_module": "@jupyter-widgets/controls",
            "_model_module_version": "1.5.0",
            "value": 440472042,
            "_view_count": null,
            "_view_module_version": "1.5.0",
            "orientation": "horizontal",
            "min": 0,
            "description_tooltip": null,
            "_model_module": "@jupyter-widgets/controls",
            "layout": "IPY_MODEL_3b30cef9749449238c4dd2fb679e64e3"
          }
        },
        "4917e04e62014df1b973a762c18191cd": {
          "model_module": "@jupyter-widgets/controls",
          "model_name": "HTMLModel",
          "state": {
            "_view_name": "HTMLView",
            "style": "IPY_MODEL_ef183fd6bdf4485ab2cbe98e3ecb24a5",
            "_dom_classes": [],
            "description": "",
            "_model_name": "HTMLModel",
            "placeholder": "​",
            "_view_module": "@jupyter-widgets/controls",
            "_model_module_version": "1.5.0",
            "value": " 440M/440M [00:11&lt;00:00, 38.7MB/s]",
            "_view_count": null,
            "_view_module_version": "1.5.0",
            "description_tooltip": null,
            "_model_module": "@jupyter-widgets/controls",
            "layout": "IPY_MODEL_a8095c509e78412a808fe45ad18f0ce1"
          }
        },
        "0073a183974c411ca04b8c474e743524": {
          "model_module": "@jupyter-widgets/controls",
          "model_name": "ProgressStyleModel",
          "state": {
            "_view_name": "StyleView",
            "_model_name": "ProgressStyleModel",
            "description_width": "initial",
            "_view_module": "@jupyter-widgets/base",
            "_model_module_version": "1.5.0",
            "_view_count": null,
            "_view_module_version": "1.2.0",
            "bar_color": null,
            "_model_module": "@jupyter-widgets/controls"
          }
        },
        "3b30cef9749449238c4dd2fb679e64e3": {
          "model_module": "@jupyter-widgets/base",
          "model_name": "LayoutModel",
          "state": {
            "_view_name": "LayoutView",
            "grid_template_rows": null,
            "right": null,
            "justify_content": null,
            "_view_module": "@jupyter-widgets/base",
            "overflow": null,
            "_model_module_version": "1.2.0",
            "_view_count": null,
            "flex_flow": null,
            "width": null,
            "min_width": null,
            "border": null,
            "align_items": null,
            "bottom": null,
            "_model_module": "@jupyter-widgets/base",
            "top": null,
            "grid_column": null,
            "overflow_y": null,
            "overflow_x": null,
            "grid_auto_flow": null,
            "grid_area": null,
            "grid_template_columns": null,
            "flex": null,
            "_model_name": "LayoutModel",
            "justify_items": null,
            "grid_row": null,
            "max_height": null,
            "align_content": null,
            "visibility": null,
            "align_self": null,
            "height": null,
            "min_height": null,
            "padding": null,
            "grid_auto_rows": null,
            "grid_gap": null,
            "max_width": null,
            "order": null,
            "_view_module_version": "1.2.0",
            "grid_template_areas": null,
            "object_position": null,
            "object_fit": null,
            "grid_auto_columns": null,
            "margin": null,
            "display": null,
            "left": null
          }
        },
        "ef183fd6bdf4485ab2cbe98e3ecb24a5": {
          "model_module": "@jupyter-widgets/controls",
          "model_name": "DescriptionStyleModel",
          "state": {
            "_view_name": "StyleView",
            "_model_name": "DescriptionStyleModel",
            "description_width": "",
            "_view_module": "@jupyter-widgets/base",
            "_model_module_version": "1.5.0",
            "_view_count": null,
            "_view_module_version": "1.2.0",
            "_model_module": "@jupyter-widgets/controls"
          }
        },
        "a8095c509e78412a808fe45ad18f0ce1": {
          "model_module": "@jupyter-widgets/base",
          "model_name": "LayoutModel",
          "state": {
            "_view_name": "LayoutView",
            "grid_template_rows": null,
            "right": null,
            "justify_content": null,
            "_view_module": "@jupyter-widgets/base",
            "overflow": null,
            "_model_module_version": "1.2.0",
            "_view_count": null,
            "flex_flow": null,
            "width": null,
            "min_width": null,
            "border": null,
            "align_items": null,
            "bottom": null,
            "_model_module": "@jupyter-widgets/base",
            "top": null,
            "grid_column": null,
            "overflow_y": null,
            "overflow_x": null,
            "grid_auto_flow": null,
            "grid_area": null,
            "grid_template_columns": null,
            "flex": null,
            "_model_name": "LayoutModel",
            "justify_items": null,
            "grid_row": null,
            "max_height": null,
            "align_content": null,
            "visibility": null,
            "align_self": null,
            "height": null,
            "min_height": null,
            "padding": null,
            "grid_auto_rows": null,
            "grid_gap": null,
            "max_width": null,
            "order": null,
            "_view_module_version": "1.2.0",
            "grid_template_areas": null,
            "object_position": null,
            "object_fit": null,
            "grid_auto_columns": null,
            "margin": null,
            "display": null,
            "left": null
          }
        }
      }
    }
  },
  "cells": [
    {
      "cell_type": "markdown",
      "metadata": {
        "id": "view-in-github",
        "colab_type": "text"
      },
      "source": [
        "<a href=\"https://colab.research.google.com/github/RutgerEttes/PubMedBERT-Question-Classification/blob/main/question_classification.ipynb\" target=\"_parent\"><img src=\"https://colab.research.google.com/assets/colab-badge.svg\" alt=\"Open In Colab\"/></a>"
      ]
    },
    {
      "cell_type": "markdown",
      "metadata": {
        "id": "fLUxIVTKHCZJ"
      },
      "source": [
        "To run the code below we need to collect the data from the github page. To download the pretrained model weights, we need to install git lfs also."
      ]
    },
    {
      "cell_type": "code",
      "metadata": {
        "id": "J9Uo0TGidNIE",
        "colab": {
          "base_uri": "https://localhost:8080/"
        },
        "outputId": "5e31fc64-206a-4318-a8e9-41d8c3545754"
      },
      "source": [
        "!sudo apt install git-lfs\r\n",
        "!git lfs install\r\n",
        "!git clone https://github.com/RutgerEttes/PubMedBERT-Question-Classification.git"
      ],
      "execution_count": null,
      "outputs": [
        {
          "output_type": "stream",
          "text": [
            "Reading package lists... Done\n",
            "Building dependency tree       \n",
            "Reading state information... Done\n",
            "The following NEW packages will be installed:\n",
            "  git-lfs\n",
            "0 upgraded, 1 newly installed, 0 to remove and 29 not upgraded.\n",
            "Need to get 2,129 kB of archives.\n",
            "After this operation, 7,662 kB of additional disk space will be used.\n",
            "Get:1 http://archive.ubuntu.com/ubuntu bionic/universe amd64 git-lfs amd64 2.3.4-1 [2,129 kB]\n",
            "Fetched 2,129 kB in 1s (2,882 kB/s)\n",
            "debconf: unable to initialize frontend: Dialog\n",
            "debconf: (No usable dialog-like program is installed, so the dialog based frontend cannot be used. at /usr/share/perl5/Debconf/FrontEnd/Dialog.pm line 76, <> line 1.)\n",
            "debconf: falling back to frontend: Readline\n",
            "debconf: unable to initialize frontend: Readline\n",
            "debconf: (This frontend requires a controlling tty.)\n",
            "debconf: falling back to frontend: Teletype\n",
            "dpkg-preconfigure: unable to re-open stdin: \n",
            "Selecting previously unselected package git-lfs.\n",
            "(Reading database ... 160975 files and directories currently installed.)\n",
            "Preparing to unpack .../git-lfs_2.3.4-1_amd64.deb ...\n",
            "Unpacking git-lfs (2.3.4-1) ...\n",
            "Setting up git-lfs (2.3.4-1) ...\n",
            "Processing triggers for man-db (2.8.3-2ubuntu0.1) ...\n",
            "Error: Failed to call git rev-parse --git-dir --show-toplevel: \"fatal: not a git repository (or any of the parent directories): .git\\n\"\n",
            "Git LFS initialized.\n",
            "Cloning into 'PubMedBERT-Question-Classification'...\n",
            "remote: Enumerating objects: 42, done.\u001b[K\n",
            "remote: Counting objects: 100% (42/42), done.\u001b[K\n",
            "remote: Compressing objects: 100% (37/37), done.\u001b[K\n",
            "remote: Total 42 (delta 9), reused 31 (delta 3), pack-reused 0\u001b[K\n",
            "Unpacking objects: 100% (42/42), done.\n"
          ],
          "name": "stdout"
        }
      ]
    },
    {
      "cell_type": "markdown",
      "metadata": {
        "id": "FZntcpsUHwOn"
      },
      "source": [
        "Next we need to install and import the necessary libraries."
      ]
    },
    {
      "cell_type": "code",
      "metadata": {
        "id": "16d262TWP7xr",
        "colab": {
          "base_uri": "https://localhost:8080/"
        },
        "outputId": "04b40e46-0e54-465d-efa3-1d212da464fb"
      },
      "source": [
        "!pip install torch==1.7.1+cu110 torchvision==0.8.2+cu110 torchaudio==0.7.2 torchtext==0.8.1 -f https://download.pytorch.org/whl/torch_stable.html\r\n",
        "!pip install transformers==4.3.0\r\n",
        "!pip install deepspeed\r\n",
        "!pip install mpi4py"
      ],
      "execution_count": null,
      "outputs": [
        {
          "output_type": "stream",
          "text": [
            "Looking in links: https://download.pytorch.org/whl/torch_stable.html\n",
            "Collecting torch==1.7.1+cu110\n",
            "\u001b[?25l  Downloading https://download.pytorch.org/whl/cu110/torch-1.7.1%2Bcu110-cp37-cp37m-linux_x86_64.whl (1156.8MB)\n",
            "\u001b[K     |███████████████████████         | 834.1MB 1.3MB/s eta 0:04:19tcmalloc: large alloc 1147494400 bytes == 0x55df5d762000 @  0x7f4ed32ed615 0x55df24af306c 0x55df24bd2eba 0x55df24af5e8d 0x55df24be799d 0x55df24b69fe9 0x55df24b64b0e 0x55df24af777a 0x55df24b69e50 0x55df24b64b0e 0x55df24af777a 0x55df24b6686a 0x55df24be87c6 0x55df24b65ee2 0x55df24be87c6 0x55df24b65ee2 0x55df24be87c6 0x55df24b65ee2 0x55df24be87c6 0x55df24c6a431 0x55df24bcb049 0x55df24b35c84 0x55df24af68e9 0x55df24b6aade 0x55df24af769a 0x55df24b65a45 0x55df24b64e0d 0x55df24af777a 0x55df24b65a45 0x55df24af769a 0x55df24b65a45\n",
            "\u001b[K     |█████████████████████████████▏  | 1055.7MB 1.3MB/s eta 0:01:21tcmalloc: large alloc 1434370048 bytes == 0x55dfa1db8000 @  0x7f4ed32ed615 0x55df24af306c 0x55df24bd2eba 0x55df24af5e8d 0x55df24be799d 0x55df24b69fe9 0x55df24b64b0e 0x55df24af777a 0x55df24b69e50 0x55df24b64b0e 0x55df24af777a 0x55df24b6686a 0x55df24be87c6 0x55df24b65ee2 0x55df24be87c6 0x55df24b65ee2 0x55df24be87c6 0x55df24b65ee2 0x55df24be87c6 0x55df24c6a431 0x55df24bcb049 0x55df24b35c84 0x55df24af68e9 0x55df24b6aade 0x55df24af769a 0x55df24b65a45 0x55df24b64e0d 0x55df24af777a 0x55df24b65a45 0x55df24af769a 0x55df24b65a45\n",
            "\u001b[K     |████████████████████████████████| 1156.7MB 1.3MB/s eta 0:00:01tcmalloc: large alloc 1445945344 bytes == 0x55dff75a4000 @  0x7f4ed32ed615 0x55df24af306c 0x55df24bd2eba 0x55df24af5e8d 0x55df24be799d 0x55df24b69fe9 0x55df24b64b0e 0x55df24af777a 0x55df24b65c9e 0x55df24b64b0e 0x55df24af777a 0x55df24b65c9e 0x55df24b64b0e 0x55df24af777a 0x55df24b65c9e 0x55df24b64b0e 0x55df24af777a 0x55df24b65c9e 0x55df24b64b0e 0x55df24af777a 0x55df24b65c9e 0x55df24af769a 0x55df24b65c9e 0x55df24b64b0e 0x55df24af777a 0x55df24b6686a 0x55df24b64b0e 0x55df24af777a 0x55df24b6686a 0x55df24b64b0e 0x55df24af7e11\n",
            "\u001b[K     |████████████████████████████████| 1156.8MB 15kB/s \n",
            "\u001b[33mWARNING: Retrying (Retry(total=4, connect=None, read=None, redirect=None, status=None)) after connection broken by 'ProtocolError('Connection aborted.', ConnectionResetError(104, 'Connection reset by peer'))': /simple/torchvision/\u001b[0m\n",
            "\u001b[?25hCollecting torchvision==0.8.2+cu110\n",
            "\u001b[?25l  Downloading https://download.pytorch.org/whl/cu110/torchvision-0.8.2%2Bcu110-cp37-cp37m-linux_x86_64.whl (12.9MB)\n",
            "\u001b[K     |████████████████████████████████| 12.9MB 36.0MB/s \n",
            "\u001b[?25hCollecting torchaudio==0.7.2\n",
            "\u001b[?25l  Downloading https://files.pythonhosted.org/packages/37/16/ecdb9eb09ec6b8133d6c9536ea9e49cd13c9b5873c8488b8b765a39028da/torchaudio-0.7.2-cp37-cp37m-manylinux1_x86_64.whl (7.6MB)\n",
            "\u001b[K     |████████████████████████████████| 7.6MB 12.5MB/s \n",
            "\u001b[?25hCollecting torchtext==0.8.1\n",
            "\u001b[?25l  Downloading https://files.pythonhosted.org/packages/13/80/046f0691b296e755ae884df3ca98033cb9afcaf287603b2b7999e94640b8/torchtext-0.8.1-cp37-cp37m-manylinux1_x86_64.whl (7.0MB)\n",
            "\u001b[K     |████████████████████████████████| 7.0MB 49.4MB/s \n",
            "\u001b[?25hRequirement already satisfied: typing-extensions in /usr/local/lib/python3.7/dist-packages (from torch==1.7.1+cu110) (3.7.4.3)\n",
            "Requirement already satisfied: numpy in /usr/local/lib/python3.7/dist-packages (from torch==1.7.1+cu110) (1.19.5)\n",
            "Requirement already satisfied: pillow>=4.1.1 in /usr/local/lib/python3.7/dist-packages (from torchvision==0.8.2+cu110) (7.0.0)\n",
            "Requirement already satisfied: tqdm in /usr/local/lib/python3.7/dist-packages (from torchtext==0.8.1) (4.41.1)\n",
            "Requirement already satisfied: requests in /usr/local/lib/python3.7/dist-packages (from torchtext==0.8.1) (2.23.0)\n",
            "Requirement already satisfied: certifi>=2017.4.17 in /usr/local/lib/python3.7/dist-packages (from requests->torchtext==0.8.1) (2020.12.5)\n",
            "Requirement already satisfied: urllib3!=1.25.0,!=1.25.1,<1.26,>=1.21.1 in /usr/local/lib/python3.7/dist-packages (from requests->torchtext==0.8.1) (1.24.3)\n",
            "Requirement already satisfied: idna<3,>=2.5 in /usr/local/lib/python3.7/dist-packages (from requests->torchtext==0.8.1) (2.10)\n",
            "Requirement already satisfied: chardet<4,>=3.0.2 in /usr/local/lib/python3.7/dist-packages (from requests->torchtext==0.8.1) (3.0.4)\n",
            "Installing collected packages: torch, torchvision, torchaudio, torchtext\n",
            "  Found existing installation: torch 1.8.0+cu101\n",
            "    Uninstalling torch-1.8.0+cu101:\n",
            "      Successfully uninstalled torch-1.8.0+cu101\n",
            "  Found existing installation: torchvision 0.9.0+cu101\n",
            "    Uninstalling torchvision-0.9.0+cu101:\n",
            "      Successfully uninstalled torchvision-0.9.0+cu101\n",
            "  Found existing installation: torchtext 0.9.0\n",
            "    Uninstalling torchtext-0.9.0:\n",
            "      Successfully uninstalled torchtext-0.9.0\n",
            "Successfully installed torch-1.7.1+cu110 torchaudio-0.7.2 torchtext-0.8.1 torchvision-0.8.2+cu110\n",
            "Collecting transformers==4.3.0\n",
            "\u001b[?25l  Downloading https://files.pythonhosted.org/packages/5e/bb/61bf4a221150aff2756935d032a83f2e68976b050e8606d990a0f3054179/transformers-4.3.0-py3-none-any.whl (1.8MB)\n",
            "\u001b[K     |████████████████████████████████| 1.8MB 21.5MB/s \n",
            "\u001b[?25hRequirement already satisfied: importlib-metadata; python_version < \"3.8\" in /usr/local/lib/python3.7/dist-packages (from transformers==4.3.0) (3.7.2)\n",
            "Requirement already satisfied: packaging in /usr/local/lib/python3.7/dist-packages (from transformers==4.3.0) (20.9)\n",
            "Collecting tokenizers<0.11,>=0.10.1\n",
            "\u001b[?25l  Downloading https://files.pythonhosted.org/packages/71/23/2ddc317b2121117bf34dd00f5b0de194158f2a44ee2bf5e47c7166878a97/tokenizers-0.10.1-cp37-cp37m-manylinux2010_x86_64.whl (3.2MB)\n",
            "\u001b[K     |████████████████████████████████| 3.2MB 50.6MB/s \n",
            "\u001b[?25hRequirement already satisfied: filelock in /usr/local/lib/python3.7/dist-packages (from transformers==4.3.0) (3.0.12)\n",
            "Requirement already satisfied: regex!=2019.12.17 in /usr/local/lib/python3.7/dist-packages (from transformers==4.3.0) (2019.12.20)\n",
            "Requirement already satisfied: tqdm>=4.27 in /usr/local/lib/python3.7/dist-packages (from transformers==4.3.0) (4.41.1)\n",
            "Requirement already satisfied: numpy>=1.17 in /usr/local/lib/python3.7/dist-packages (from transformers==4.3.0) (1.19.5)\n",
            "Requirement already satisfied: requests in /usr/local/lib/python3.7/dist-packages (from transformers==4.3.0) (2.23.0)\n",
            "Collecting sacremoses\n",
            "\u001b[?25l  Downloading https://files.pythonhosted.org/packages/7d/34/09d19aff26edcc8eb2a01bed8e98f13a1537005d31e95233fd48216eed10/sacremoses-0.0.43.tar.gz (883kB)\n",
            "\u001b[K     |████████████████████████████████| 890kB 47.3MB/s \n",
            "\u001b[?25hRequirement already satisfied: zipp>=0.5 in /usr/local/lib/python3.7/dist-packages (from importlib-metadata; python_version < \"3.8\"->transformers==4.3.0) (3.4.1)\n",
            "Requirement already satisfied: typing-extensions>=3.6.4; python_version < \"3.8\" in /usr/local/lib/python3.7/dist-packages (from importlib-metadata; python_version < \"3.8\"->transformers==4.3.0) (3.7.4.3)\n",
            "Requirement already satisfied: pyparsing>=2.0.2 in /usr/local/lib/python3.7/dist-packages (from packaging->transformers==4.3.0) (2.4.7)\n",
            "Requirement already satisfied: idna<3,>=2.5 in /usr/local/lib/python3.7/dist-packages (from requests->transformers==4.3.0) (2.10)\n",
            "Requirement already satisfied: certifi>=2017.4.17 in /usr/local/lib/python3.7/dist-packages (from requests->transformers==4.3.0) (2020.12.5)\n",
            "Requirement already satisfied: urllib3!=1.25.0,!=1.25.1,<1.26,>=1.21.1 in /usr/local/lib/python3.7/dist-packages (from requests->transformers==4.3.0) (1.24.3)\n",
            "Requirement already satisfied: chardet<4,>=3.0.2 in /usr/local/lib/python3.7/dist-packages (from requests->transformers==4.3.0) (3.0.4)\n",
            "Requirement already satisfied: six in /usr/local/lib/python3.7/dist-packages (from sacremoses->transformers==4.3.0) (1.15.0)\n",
            "Requirement already satisfied: click in /usr/local/lib/python3.7/dist-packages (from sacremoses->transformers==4.3.0) (7.1.2)\n",
            "Requirement already satisfied: joblib in /usr/local/lib/python3.7/dist-packages (from sacremoses->transformers==4.3.0) (1.0.1)\n",
            "Building wheels for collected packages: sacremoses\n",
            "  Building wheel for sacremoses (setup.py) ... \u001b[?25l\u001b[?25hdone\n",
            "  Created wheel for sacremoses: filename=sacremoses-0.0.43-cp37-none-any.whl size=893262 sha256=e42d45e30da00a59e49f9616d0952b683f591d932cbd5d1e5b5bdfe2ba642424\n",
            "  Stored in directory: /root/.cache/pip/wheels/29/3c/fd/7ce5c3f0666dab31a50123635e6fb5e19ceb42ce38d4e58f45\n",
            "Successfully built sacremoses\n",
            "Installing collected packages: tokenizers, sacremoses, transformers\n",
            "Successfully installed sacremoses-0.0.43 tokenizers-0.10.1 transformers-4.3.0\n",
            "Collecting deepspeed\n",
            "\u001b[?25l  Downloading https://files.pythonhosted.org/packages/9a/fe/e49e41a5650952e693abdaef80ec97addec2c061632f978c213d2adb3b7c/deepspeed-0.3.13.tar.gz (334kB)\n",
            "\u001b[K     |████████████████████████████████| 337kB 17.8MB/s \n",
            "\u001b[?25hRequirement already satisfied: torch>=1.2 in /usr/local/lib/python3.7/dist-packages (from deepspeed) (1.7.1+cu110)\n",
            "Requirement already satisfied: torchvision>=0.4.0 in /usr/local/lib/python3.7/dist-packages (from deepspeed) (0.8.2+cu110)\n",
            "Requirement already satisfied: tqdm in /usr/local/lib/python3.7/dist-packages (from deepspeed) (4.41.1)\n",
            "Collecting tensorboardX==1.8\n",
            "\u001b[?25l  Downloading https://files.pythonhosted.org/packages/c3/12/dcaf67e1312475b26db9e45e7bb6f32b540671a9ee120b3a72d9e09bc517/tensorboardX-1.8-py2.py3-none-any.whl (216kB)\n",
            "\u001b[K     |████████████████████████████████| 225kB 47.1MB/s \n",
            "\u001b[?25hCollecting ninja\n",
            "\u001b[?25l  Downloading https://files.pythonhosted.org/packages/1d/de/393468f2a37fc2c1dc3a06afc37775e27fde2d16845424141d4da62c686d/ninja-1.10.0.post2-py3-none-manylinux1_x86_64.whl (107kB)\n",
            "\u001b[K     |████████████████████████████████| 112kB 47.5MB/s \n",
            "\u001b[?25hRequirement already satisfied: numpy in /usr/local/lib/python3.7/dist-packages (from deepspeed) (1.19.5)\n",
            "Requirement already satisfied: psutil in /usr/local/lib/python3.7/dist-packages (from deepspeed) (5.4.8)\n",
            "Requirement already satisfied: typing-extensions in /usr/local/lib/python3.7/dist-packages (from torch>=1.2->deepspeed) (3.7.4.3)\n",
            "Requirement already satisfied: pillow>=4.1.1 in /usr/local/lib/python3.7/dist-packages (from torchvision>=0.4.0->deepspeed) (7.0.0)\n",
            "Requirement already satisfied: protobuf>=3.2.0 in /usr/local/lib/python3.7/dist-packages (from tensorboardX==1.8->deepspeed) (3.12.4)\n",
            "Requirement already satisfied: six in /usr/local/lib/python3.7/dist-packages (from tensorboardX==1.8->deepspeed) (1.15.0)\n",
            "Requirement already satisfied: setuptools in /usr/local/lib/python3.7/dist-packages (from protobuf>=3.2.0->tensorboardX==1.8->deepspeed) (54.0.0)\n",
            "Building wheels for collected packages: deepspeed\n",
            "  Building wheel for deepspeed (setup.py) ... \u001b[?25l\u001b[?25hdone\n",
            "  Created wheel for deepspeed: filename=deepspeed-0.3.13-cp37-none-any.whl size=328696 sha256=8dc83e8ab707050d4da413ea76c50a02977c5861faca5fdcbdf6f23b5edf8a3c\n",
            "  Stored in directory: /root/.cache/pip/wheels/f7/52/b2/300b86ae75a4c074a379351c1fb224309c2a04e2e86ea64952\n",
            "Successfully built deepspeed\n",
            "Installing collected packages: tensorboardX, ninja, deepspeed\n",
            "Successfully installed deepspeed-0.3.13 ninja-1.10.0.post2 tensorboardX-1.8\n",
            "Collecting mpi4py\n",
            "\u001b[?25l  Downloading https://files.pythonhosted.org/packages/ec/8f/bbd8de5ba566dd77e408d8136e2bab7fdf2b97ce06cab830ba8b50a2f588/mpi4py-3.0.3.tar.gz (1.4MB)\n",
            "\u001b[K     |████████████████████████████████| 1.4MB 18.6MB/s \n",
            "\u001b[?25hBuilding wheels for collected packages: mpi4py\n",
            "  Building wheel for mpi4py (setup.py) ... \u001b[?25l\u001b[?25hdone\n",
            "  Created wheel for mpi4py: filename=mpi4py-3.0.3-cp37-cp37m-linux_x86_64.whl size=2065166 sha256=905aa0c803e6e4457d6ddf2a2de6b2d89b76ed3100287b03ab73ffe55b27e97a\n",
            "  Stored in directory: /root/.cache/pip/wheels/18/e0/86/2b713dd512199096012ceca61429e12b960888de59818871d6\n",
            "Successfully built mpi4py\n",
            "Installing collected packages: mpi4py\n",
            "Successfully installed mpi4py-3.0.3\n"
          ],
          "name": "stdout"
        }
      ]
    },
    {
      "cell_type": "code",
      "metadata": {
        "id": "6v9evd16zN4H"
      },
      "source": [
        "import transformers\r\n",
        "import pandas as pd\r\n",
        "import numpy as np\r\n",
        "import sklearn\r\n",
        "import csv\r\n",
        "import matplotlib.pyplot as plt\r\n",
        "from collections import Counter\r\n",
        "from transformers import AutoModelForSequenceClassification, Trainer, TrainingArguments\r\n",
        "from deepspeed.utils import logger\r\n",
        "logger.setLevel(50)"
      ],
      "execution_count": null,
      "outputs": []
    },
    {
      "cell_type": "markdown",
      "metadata": {
        "id": "be4fpU-lIHfX"
      },
      "source": [
        "utils.py contains a number of functions for preprocessing the data and creating some graphs."
      ]
    },
    {
      "cell_type": "code",
      "metadata": {
        "id": "jtzSFLAVIFOZ"
      },
      "source": [
        "!cp /content/PubMedBERT-Question-Classification/utils.py .\r\n",
        "import utils"
      ],
      "execution_count": null,
      "outputs": []
    },
    {
      "cell_type": "markdown",
      "metadata": {
        "id": "WgXKnxlaCTPD"
      },
      "source": [
        "In principle all datasets have been prepared to for use in the prepare_datasets function, but should you want to create *dataCOVID-Dialogue-Dataset-English_questions.tsv* and *dataicliniq_dialogue_questions.tsv* from scratch, simply run the following function with the desired input and output filepaths:\r\n",
        "\r\n",
        "\r\n",
        "```\r\n",
        "preprocess_to_tsv(data_path, save_to)\r\n",
        "```\r\n",
        "\r\n"
      ]
    },
    {
      "cell_type": "code",
      "metadata": {
        "id": "t8vExgvTCEio"
      },
      "source": [
        "ichi_train_path = '/content/PubMedBERT-Question-Classification/data/ICHI2016-TrainData.tsv'\r\n",
        "ichi_test_path = '/content/PubMedBERT-Question-Classification/data/new_ICHI2016-TestData_label.tsv'\r\n",
        "icliniq_annotated_path = '/content/PubMedBERT-Question-Classification/data/icliniq_annotated.tsv'\r\n",
        "COVID_annotated_path = '/content/PubMedBERT-Question-Classification/data/COVID_annotated.tsv'\r\n",
        "icliniq_path = '/content/PubMedBERT-Question-Classification/data/dataicliniq_dialogue_questions.tsv'\r\n",
        "COVID_path = '/content/PubMedBERT-Question-Classification/data/dataCOVID-Dialogue-Dataset-English_questions.tsv'"
      ],
      "execution_count": null,
      "outputs": []
    },
    {
      "cell_type": "code",
      "metadata": {
        "id": "-Bm0sJs0oDP6",
        "colab": {
          "base_uri": "https://localhost:8080/",
          "height": 115,
          "referenced_widgets": [
            "1d1e77e1f2964476bdeecd3add3fa383",
            "5ef05c696e2e46e998009c6f88fd8ffe",
            "ce5ae8d358a84f7cbb1d0003c8d1c9aa",
            "10fc830b748e41b3a965d26540d5b6e9",
            "e6edf76d36d1475cbdbd0b35bacbacdc",
            "505ccdc0f318411f8eacd935cf24600c",
            "d6b4c2683b0f465cb8edc6d4acfee609",
            "ce3cd38c4d07450fa00bc00db461e96b",
            "c26fe643476a4b379ce8e7d997e7b955",
            "c5ef1e1b13ae4105b156bdd9315bced7",
            "72bbcb8bdc71492ea71e50fe27265b5a",
            "84b3a8d4286f49cc89ac93990ca40655",
            "dfa83f71ca4547f4a1421b6683d66966",
            "ed143f7f43a345729eecd852402ff168",
            "c80e96bb770e4e598f12214f26eeee1d",
            "bc5ed9082ba849128d61a7c17140e32e"
          ]
        },
        "outputId": "ee5a53e4-268a-43fe-e6f5-48d4ade47f38"
      },
      "source": [
        "filepaths = [ichi_train_path,\r\n",
        "ichi_test_path,\r\n",
        "COVID_annotated_path,\r\n",
        "icliniq_annotated_path,\r\n",
        "COVID_path,\r\n",
        "icliniq_path]\r\n",
        "\r\n",
        "train_dataset, val_dataset, test_dataset, COVID_annotated_dataset, icliniq_annotated_dataset, COVID_dataset, icliniq_dataset = utils.prepare_datasets(filepaths)"
      ],
      "execution_count": null,
      "outputs": [
        {
          "output_type": "display_data",
          "data": {
            "application/vnd.jupyter.widget-view+json": {
              "model_id": "1d1e77e1f2964476bdeecd3add3fa383",
              "version_minor": 0,
              "version_major": 2
            },
            "text/plain": [
              "HBox(children=(FloatProgress(value=0.0, description='Downloading', max=337.0, style=ProgressStyle(description_…"
            ]
          },
          "metadata": {
            "tags": []
          }
        },
        {
          "output_type": "stream",
          "text": [
            "\n"
          ],
          "name": "stdout"
        },
        {
          "output_type": "display_data",
          "data": {
            "application/vnd.jupyter.widget-view+json": {
              "model_id": "c26fe643476a4b379ce8e7d997e7b955",
              "version_minor": 0,
              "version_major": 2
            },
            "text/plain": [
              "HBox(children=(FloatProgress(value=0.0, description='Downloading', max=226150.0, style=ProgressStyle(descripti…"
            ]
          },
          "metadata": {
            "tags": []
          }
        },
        {
          "output_type": "stream",
          "text": [
            "\n"
          ],
          "name": "stdout"
        }
      ]
    },
    {
      "cell_type": "code",
      "metadata": {
        "id": "pECs8cT43bGU"
      },
      "source": [
        "training_args = TrainingArguments(\r\n",
        "    output_dir='./results',          # output directory\r\n",
        "    num_train_epochs=2,              # total number of training epochs\r\n",
        "    per_device_train_batch_size=16,  # batch size per device during training\r\n",
        "    per_device_eval_batch_size=64,   # batch size for evaluation\r\n",
        "    warmup_steps=500,                # number of warmup steps for learning rate scheduler\r\n",
        "    weight_decay=0.01,               # strength of weight decay\r\n",
        "    logging_dir='./logs',            # directory for storing logs\r\n",
        "    local_rank=0,\r\n",
        "    deepspeed='/content/PubMedBERT-Question-Classification/ds_config.json',\r\n",
        "    load_best_model_at_end=True,\r\n",
        "    evaluation_strategy='steps',\r\n",
        "    eval_steps=100,\r\n",
        "    metric_for_best_model= 'accuracy',\r\n",
        "    logging_steps = 100,\r\n",
        "    save_total_limit=2\r\n",
        ")"
      ],
      "execution_count": null,
      "outputs": []
    },
    {
      "cell_type": "markdown",
      "metadata": {
        "id": "6WT_aL16Jlut"
      },
      "source": [
        "You can either use the pretrained model weights stored in the github repository by running the code cell below, or newly finetune PubMedBERT model weights by running the cell under it."
      ]
    },
    {
      "cell_type": "code",
      "metadata": {
        "id": "Hv5djmywj4k2"
      },
      "source": [
        "model = AutoModelForSequenceClassification.from_pretrained('/content/PubMedBERT-Question-Classification/model', num_labels=7).to('cuda')\r\n",
        "\r\n",
        "trainer = Trainer(\r\n",
        "    model=model,                         # the instantiated 🤗 Transformers model to be trained\r\n",
        "    args=training_args,                  # training arguments, defined above\r\n",
        "    train_dataset=train_dataset,         # training dataset\r\n",
        "    eval_dataset=val_dataset,             # evaluation dataset\r\n",
        "    compute_metrics=utils.compute_metrics\r\n",
        ")"
      ],
      "execution_count": null,
      "outputs": []
    },
    {
      "cell_type": "code",
      "metadata": {
        "id": "LkYM8ec0E8Uy",
        "colab": {
          "base_uri": "https://localhost:8080/",
          "height": 834,
          "referenced_widgets": [
            "acbd4d8d3d8a4bac8240a4dfc7db1af7",
            "68f4b4a712144116aaec20cac1e867f3",
            "3db024fd8e8c450387277fac1fadf050",
            "4917e04e62014df1b973a762c18191cd",
            "0073a183974c411ca04b8c474e743524",
            "3b30cef9749449238c4dd2fb679e64e3",
            "ef183fd6bdf4485ab2cbe98e3ecb24a5",
            "a8095c509e78412a808fe45ad18f0ce1"
          ]
        },
        "outputId": "9449863e-6eaf-4cc5-d602-71191aa3faf7"
      },
      "source": [
        "model = AutoModelForSequenceClassification.from_pretrained(\"microsoft/BiomedNLP-PubMedBERT-base-uncased-abstract-fulltext\", num_labels=7)\r\n",
        "\r\n",
        "trainer = Trainer(\r\n",
        "    model=model,                         # the instantiated 🤗 Transformers model to be trained\r\n",
        "    args=training_args,                  # training arguments, defined above\r\n",
        "    train_dataset=train_dataset,         # training dataset\r\n",
        "    eval_dataset=val_dataset,             # evaluation dataset\r\n",
        "    compute_metrics=utils.compute_metrics\r\n",
        ")\r\n",
        "\r\n",
        "trainer.train()"
      ],
      "execution_count": null,
      "outputs": [
        {
          "output_type": "display_data",
          "data": {
            "application/vnd.jupyter.widget-view+json": {
              "model_id": "acbd4d8d3d8a4bac8240a4dfc7db1af7",
              "version_minor": 0,
              "version_major": 2
            },
            "text/plain": [
              "HBox(children=(FloatProgress(value=0.0, description='Downloading', max=440472042.0, style=ProgressStyle(descri…"
            ]
          },
          "metadata": {
            "tags": []
          }
        },
        {
          "output_type": "stream",
          "text": [
            "\n"
          ],
          "name": "stdout"
        },
        {
          "output_type": "stream",
          "text": [
            "Some weights of the model checkpoint at microsoft/BiomedNLP-PubMedBERT-base-uncased-abstract-fulltext were not used when initializing BertForSequenceClassification: ['cls.predictions.bias', 'cls.predictions.transform.dense.weight', 'cls.predictions.transform.dense.bias', 'cls.predictions.transform.LayerNorm.weight', 'cls.predictions.transform.LayerNorm.bias', 'cls.predictions.decoder.weight', 'cls.predictions.decoder.bias', 'cls.seq_relationship.weight', 'cls.seq_relationship.bias']\n",
            "- This IS expected if you are initializing BertForSequenceClassification from the checkpoint of a model trained on another task or with another architecture (e.g. initializing a BertForSequenceClassification model from a BertForPreTraining model).\n",
            "- This IS NOT expected if you are initializing BertForSequenceClassification from the checkpoint of a model that you expect to be exactly identical (initializing a BertForSequenceClassification model from a BertForSequenceClassification model).\n",
            "Some weights of BertForSequenceClassification were not initialized from the model checkpoint at microsoft/BiomedNLP-PubMedBERT-base-uncased-abstract-fulltext and are newly initialized: ['classifier.weight', 'classifier.bias']\n",
            "You should probably TRAIN this model on a down-stream task to be able to use it for predictions and inference.\n"
          ],
          "name": "stderr"
        },
        {
          "output_type": "stream",
          "text": [
            "Using /root/.cache/torch_extensions as PyTorch extensions root...\n",
            "Creating extension directory /root/.cache/torch_extensions/fused_adam...\n",
            "Detected CUDA files, patching ldflags\n",
            "Emitting ninja build file /root/.cache/torch_extensions/fused_adam/build.ninja...\n",
            "Building extension module fused_adam...\n",
            "Allowing ninja to set a default number of workers... (overridable by setting the environment variable MAX_JOBS=N)\n",
            "Loading extension module fused_adam...\n",
            "Time to load fused_adam op: 22.813881874084473 seconds\n",
            "Checking ZeRO support for optimizer=FusedAdam type=<class 'deepspeed.ops.adam.fused_adam.FusedAdam'>\n",
            "Using /root/.cache/torch_extensions as PyTorch extensions root...\n",
            "Creating extension directory /root/.cache/torch_extensions/utils...\n",
            "Emitting ninja build file /root/.cache/torch_extensions/utils/build.ninja...\n",
            "Building extension module utils...\n",
            "Allowing ninja to set a default number of workers... (overridable by setting the environment variable MAX_JOBS=N)\n",
            "Loading extension module utils...\n",
            "Time to load utils op: 12.706260442733765 seconds\n"
          ],
          "name": "stdout"
        },
        {
          "output_type": "display_data",
          "data": {
            "text/html": [
              "\n",
              "    <div>\n",
              "        <style>\n",
              "            /* Turns off some styling */\n",
              "            progress {\n",
              "                /* gets rid of default border in Firefox and Opera. */\n",
              "                border: none;\n",
              "                /* Needs to be in here for Safari polyfill so background images work as expected. */\n",
              "                background-size: auto;\n",
              "            }\n",
              "        </style>\n",
              "      \n",
              "      <progress value='800' max='800' style='width:300px; height:20px; vertical-align: middle;'></progress>\n",
              "      [800/800 11:51, Epoch 2/2]\n",
              "    </div>\n",
              "    <table border=\"1\" class=\"dataframe\">\n",
              "  <thead>\n",
              "    <tr style=\"text-align: left;\">\n",
              "      <th>Step</th>\n",
              "      <th>Training Loss</th>\n",
              "      <th>Validation Loss</th>\n",
              "      <th>Accuracy</th>\n",
              "      <th>Demo f1</th>\n",
              "      <th>Demo precision</th>\n",
              "      <th>Demo recall</th>\n",
              "      <th>Dise f1</th>\n",
              "      <th>Dise precision</th>\n",
              "      <th>Dise recall</th>\n",
              "      <th>Faml f1</th>\n",
              "      <th>Faml precision</th>\n",
              "      <th>Faml recall</th>\n",
              "      <th>Goal f1</th>\n",
              "      <th>Goal precision</th>\n",
              "      <th>Goal recall</th>\n",
              "      <th>Preg f1</th>\n",
              "      <th>Preg precision</th>\n",
              "      <th>Preg recall</th>\n",
              "      <th>Socl f1</th>\n",
              "      <th>Socl precision</th>\n",
              "      <th>Socl recall</th>\n",
              "      <th>Trmt f1</th>\n",
              "      <th>Trmt precision</th>\n",
              "      <th>Trmt recall</th>\n",
              "      <th>Runtime</th>\n",
              "      <th>Samples Per Second</th>\n",
              "    </tr>\n",
              "  </thead>\n",
              "  <tbody>\n",
              "    <tr>\n",
              "      <td>100</td>\n",
              "      <td>1.650900</td>\n",
              "      <td>1.175781</td>\n",
              "      <td>0.586875</td>\n",
              "      <td>0.305419</td>\n",
              "      <td>0.352273</td>\n",
              "      <td>0.269565</td>\n",
              "      <td>0.590510</td>\n",
              "      <td>0.513761</td>\n",
              "      <td>0.694215</td>\n",
              "      <td>0.837022</td>\n",
              "      <td>0.776119</td>\n",
              "      <td>0.908297</td>\n",
              "      <td>0.746411</td>\n",
              "      <td>0.852459</td>\n",
              "      <td>0.663830</td>\n",
              "      <td>0.635514</td>\n",
              "      <td>0.496350</td>\n",
              "      <td>0.883117</td>\n",
              "      <td>0.302583</td>\n",
              "      <td>0.953488</td>\n",
              "      <td>0.179825</td>\n",
              "      <td>0.503778</td>\n",
              "      <td>0.520833</td>\n",
              "      <td>0.487805</td>\n",
              "      <td>17.851900</td>\n",
              "      <td>89.626000</td>\n",
              "    </tr>\n",
              "    <tr>\n",
              "      <td>200</td>\n",
              "      <td>1.127200</td>\n",
              "      <td>1.017578</td>\n",
              "      <td>0.638750</td>\n",
              "      <td>0.273684</td>\n",
              "      <td>0.709091</td>\n",
              "      <td>0.169565</td>\n",
              "      <td>0.600000</td>\n",
              "      <td>0.487113</td>\n",
              "      <td>0.780992</td>\n",
              "      <td>0.837209</td>\n",
              "      <td>0.752613</td>\n",
              "      <td>0.943231</td>\n",
              "      <td>0.787440</td>\n",
              "      <td>0.910615</td>\n",
              "      <td>0.693617</td>\n",
              "      <td>0.667870</td>\n",
              "      <td>0.572755</td>\n",
              "      <td>0.800866</td>\n",
              "      <td>0.586433</td>\n",
              "      <td>0.585153</td>\n",
              "      <td>0.587719</td>\n",
              "      <td>0.558140</td>\n",
              "      <td>0.690647</td>\n",
              "      <td>0.468293</td>\n",
              "      <td>18.080500</td>\n",
              "      <td>88.493000</td>\n",
              "    </tr>\n",
              "    <tr>\n",
              "      <td>300</td>\n",
              "      <td>1.068300</td>\n",
              "      <td>0.978027</td>\n",
              "      <td>0.656250</td>\n",
              "      <td>0.486216</td>\n",
              "      <td>0.573964</td>\n",
              "      <td>0.421739</td>\n",
              "      <td>0.632444</td>\n",
              "      <td>0.628571</td>\n",
              "      <td>0.636364</td>\n",
              "      <td>0.874735</td>\n",
              "      <td>0.851240</td>\n",
              "      <td>0.899563</td>\n",
              "      <td>0.707547</td>\n",
              "      <td>0.561097</td>\n",
              "      <td>0.957447</td>\n",
              "      <td>0.684015</td>\n",
              "      <td>0.599349</td>\n",
              "      <td>0.796537</td>\n",
              "      <td>0.588889</td>\n",
              "      <td>0.803030</td>\n",
              "      <td>0.464912</td>\n",
              "      <td>0.504854</td>\n",
              "      <td>0.750000</td>\n",
              "      <td>0.380488</td>\n",
              "      <td>18.297100</td>\n",
              "      <td>87.446000</td>\n",
              "    </tr>\n",
              "    <tr>\n",
              "      <td>400</td>\n",
              "      <td>0.924300</td>\n",
              "      <td>0.828613</td>\n",
              "      <td>0.720625</td>\n",
              "      <td>0.584821</td>\n",
              "      <td>0.600917</td>\n",
              "      <td>0.569565</td>\n",
              "      <td>0.680328</td>\n",
              "      <td>0.674797</td>\n",
              "      <td>0.685950</td>\n",
              "      <td>0.881356</td>\n",
              "      <td>0.855967</td>\n",
              "      <td>0.908297</td>\n",
              "      <td>0.838207</td>\n",
              "      <td>0.773381</td>\n",
              "      <td>0.914894</td>\n",
              "      <td>0.712788</td>\n",
              "      <td>0.691057</td>\n",
              "      <td>0.735931</td>\n",
              "      <td>0.654912</td>\n",
              "      <td>0.769231</td>\n",
              "      <td>0.570175</td>\n",
              "      <td>0.656790</td>\n",
              "      <td>0.665000</td>\n",
              "      <td>0.648780</td>\n",
              "      <td>18.344700</td>\n",
              "      <td>87.219000</td>\n",
              "    </tr>\n",
              "    <tr>\n",
              "      <td>500</td>\n",
              "      <td>0.711300</td>\n",
              "      <td>0.829102</td>\n",
              "      <td>0.716250</td>\n",
              "      <td>0.576497</td>\n",
              "      <td>0.588235</td>\n",
              "      <td>0.565217</td>\n",
              "      <td>0.681725</td>\n",
              "      <td>0.677551</td>\n",
              "      <td>0.685950</td>\n",
              "      <td>0.878981</td>\n",
              "      <td>0.855372</td>\n",
              "      <td>0.903930</td>\n",
              "      <td>0.835937</td>\n",
              "      <td>0.772563</td>\n",
              "      <td>0.910638</td>\n",
              "      <td>0.702929</td>\n",
              "      <td>0.680162</td>\n",
              "      <td>0.727273</td>\n",
              "      <td>0.649616</td>\n",
              "      <td>0.779141</td>\n",
              "      <td>0.557018</td>\n",
              "      <td>0.653659</td>\n",
              "      <td>0.653659</td>\n",
              "      <td>0.653659</td>\n",
              "      <td>18.346900</td>\n",
              "      <td>87.208000</td>\n",
              "    </tr>\n",
              "    <tr>\n",
              "      <td>600</td>\n",
              "      <td>0.718700</td>\n",
              "      <td>0.829102</td>\n",
              "      <td>0.716250</td>\n",
              "      <td>0.576497</td>\n",
              "      <td>0.588235</td>\n",
              "      <td>0.565217</td>\n",
              "      <td>0.681725</td>\n",
              "      <td>0.677551</td>\n",
              "      <td>0.685950</td>\n",
              "      <td>0.878981</td>\n",
              "      <td>0.855372</td>\n",
              "      <td>0.903930</td>\n",
              "      <td>0.835937</td>\n",
              "      <td>0.772563</td>\n",
              "      <td>0.910638</td>\n",
              "      <td>0.702929</td>\n",
              "      <td>0.680162</td>\n",
              "      <td>0.727273</td>\n",
              "      <td>0.649616</td>\n",
              "      <td>0.779141</td>\n",
              "      <td>0.557018</td>\n",
              "      <td>0.653659</td>\n",
              "      <td>0.653659</td>\n",
              "      <td>0.653659</td>\n",
              "      <td>18.355500</td>\n",
              "      <td>87.167000</td>\n",
              "    </tr>\n",
              "    <tr>\n",
              "      <td>700</td>\n",
              "      <td>0.745700</td>\n",
              "      <td>0.829102</td>\n",
              "      <td>0.716250</td>\n",
              "      <td>0.576497</td>\n",
              "      <td>0.588235</td>\n",
              "      <td>0.565217</td>\n",
              "      <td>0.681725</td>\n",
              "      <td>0.677551</td>\n",
              "      <td>0.685950</td>\n",
              "      <td>0.878981</td>\n",
              "      <td>0.855372</td>\n",
              "      <td>0.903930</td>\n",
              "      <td>0.835937</td>\n",
              "      <td>0.772563</td>\n",
              "      <td>0.910638</td>\n",
              "      <td>0.702929</td>\n",
              "      <td>0.680162</td>\n",
              "      <td>0.727273</td>\n",
              "      <td>0.649616</td>\n",
              "      <td>0.779141</td>\n",
              "      <td>0.557018</td>\n",
              "      <td>0.653659</td>\n",
              "      <td>0.653659</td>\n",
              "      <td>0.653659</td>\n",
              "      <td>18.341200</td>\n",
              "      <td>87.235000</td>\n",
              "    </tr>\n",
              "    <tr>\n",
              "      <td>800</td>\n",
              "      <td>0.747300</td>\n",
              "      <td>0.829102</td>\n",
              "      <td>0.716250</td>\n",
              "      <td>0.576497</td>\n",
              "      <td>0.588235</td>\n",
              "      <td>0.565217</td>\n",
              "      <td>0.681725</td>\n",
              "      <td>0.677551</td>\n",
              "      <td>0.685950</td>\n",
              "      <td>0.878981</td>\n",
              "      <td>0.855372</td>\n",
              "      <td>0.903930</td>\n",
              "      <td>0.835937</td>\n",
              "      <td>0.772563</td>\n",
              "      <td>0.910638</td>\n",
              "      <td>0.702929</td>\n",
              "      <td>0.680162</td>\n",
              "      <td>0.727273</td>\n",
              "      <td>0.649616</td>\n",
              "      <td>0.779141</td>\n",
              "      <td>0.557018</td>\n",
              "      <td>0.653659</td>\n",
              "      <td>0.653659</td>\n",
              "      <td>0.653659</td>\n",
              "      <td>18.330200</td>\n",
              "      <td>87.288000</td>\n",
              "    </tr>\n",
              "  </tbody>\n",
              "</table><p>"
            ],
            "text/plain": [
              "<IPython.core.display.HTML object>"
            ]
          },
          "metadata": {
            "tags": []
          }
        },
        {
          "output_type": "stream",
          "text": [
            "successfully loaded 1 ZeRO state_dicts for rank 0\n",
            "loading 1 zero partition checkpoints for rank 0\n"
          ],
          "name": "stdout"
        },
        {
          "output_type": "execute_result",
          "data": {
            "text/plain": [
              "TrainOutput(global_step=800, training_loss=0.9617222595214844, metrics={'train_runtime': 712.0913, 'train_samples_per_second': 1.123, 'total_flos': 4305228516556800, 'epoch': 2.0})"
            ]
          },
          "metadata": {
            "tags": []
          },
          "execution_count": 9
        }
      ]
    },
    {
      "cell_type": "markdown",
      "metadata": {
        "id": "JD2ZBGcmKrtv"
      },
      "source": [
        "You can save new model weights by running the cell below. You can download these weights from the colab file menu, or, if google drive is mounted, change the path to a folder in drive and save it there."
      ]
    },
    {
      "cell_type": "code",
      "metadata": {
        "id": "zpRMjlE-KE2Z"
      },
      "source": [
        "trainer.save_model(\"./model\")"
      ],
      "execution_count": null,
      "outputs": []
    },
    {
      "cell_type": "code",
      "metadata": {
        "id": "ABIjlWhdiH-I",
        "colab": {
          "base_uri": "https://localhost:8080/",
          "height": 125
        },
        "outputId": "b2c7d079-4501-4c91-e0df-8035d2616692"
      },
      "source": [
        "test_predictions, _, test_metrics = trainer.predict(test_dataset)\r\n",
        "COVID_annotated_predictions, _, COVID_annotated_metrics = trainer.predict(COVID_annotated_dataset)\r\n",
        "icliniq_annotated_predictions, _, icliniq_annotated_metrics = trainer.predict(icliniq_annotated_dataset)\r\n",
        "COVID_prediction, _, _ = trainer.predict(COVID_dataset)\r\n",
        "icliniq_prediction, _, _ = trainer.predict(icliniq_dataset)\r\n",
        "\r\n",
        "test_pred_labels = [i.argmax() for i in test_predictions]\r\n",
        "COVID_annotated_pred_labels = [i.argmax() for i in COVID_annotated_predictions]\r\n",
        "icliniq_annotated_pred_labels = [i.argmax() for i in icliniq_annotated_predictions]\r\n",
        "COVID_pred_labels = [i.argmax() for i in COVID_prediction]\r\n",
        "icliniq_pred_labels = [i.argmax() for i in icliniq_prediction]"
      ],
      "execution_count": null,
      "outputs": [
        {
          "output_type": "display_data",
          "data": {
            "text/html": [
              "\n",
              "    <div>\n",
              "        <style>\n",
              "            /* Turns off some styling */\n",
              "            progress {\n",
              "                /* gets rid of default border in Firefox and Opera. */\n",
              "                border: none;\n",
              "                /* Needs to be in here for Safari polyfill so background images work as expected. */\n",
              "                background-size: auto;\n",
              "            }\n",
              "        </style>\n",
              "      \n",
              "      <progress value='436' max='47' style='width:300px; height:20px; vertical-align: middle;'></progress>\n",
              "      [47/47 17:06]\n",
              "    </div>\n",
              "    "
            ],
            "text/plain": [
              "<IPython.core.display.HTML object>"
            ]
          },
          "metadata": {
            "tags": []
          }
        },
        {
          "output_type": "stream",
          "text": [
            "/usr/local/lib/python3.7/dist-packages/sklearn/metrics/_classification.py:1272: UndefinedMetricWarning: Precision and F-score are ill-defined and being set to 0.0 in labels with no predicted samples. Use `zero_division` parameter to control this behavior.\n",
            "  _warn_prf(average, modifier, msg_start, len(result))\n",
            "/usr/local/lib/python3.7/dist-packages/sklearn/metrics/_classification.py:1272: UndefinedMetricWarning: Recall and F-score are ill-defined and being set to 0.0 in labels with no true samples. Use `zero_division` parameter to control this behavior.\n",
            "  _warn_prf(average, modifier, msg_start, len(result))\n"
          ],
          "name": "stderr"
        }
      ]
    },
    {
      "cell_type": "markdown",
      "metadata": {
        "id": "nZ09dWgeTAVt"
      },
      "source": [
        "Metrics on the test and annotated datasets can be accessed as follows:"
      ]
    },
    {
      "cell_type": "code",
      "metadata": {
        "id": "QMrj5yT3TLz3",
        "colab": {
          "base_uri": "https://localhost:8080/"
        },
        "outputId": "208610ba-6b7d-47fc-93bd-0f8cbcd6d39f"
      },
      "source": [
        "test_metrics"
      ],
      "execution_count": null,
      "outputs": [
        {
          "output_type": "execute_result",
          "data": {
            "text/plain": [
              "{'eval_DEMO f1': 0.5185185185185185,\n",
              " 'eval_DEMO precision': 0.5645161290322581,\n",
              " 'eval_DEMO recall': 0.4794520547945205,\n",
              " 'eval_DISE f1': 0.6398258977149075,\n",
              " 'eval_DISE precision': 0.6137787056367432,\n",
              " 'eval_DISE recall': 0.6681818181818182,\n",
              " 'eval_FAML f1': 0.8734030197444832,\n",
              " 'eval_FAML precision': 0.8545454545454545,\n",
              " 'eval_FAML recall': 0.8931116389548693,\n",
              " 'eval_GOAL f1': 0.8119469026548672,\n",
              " 'eval_GOAL precision': 0.7582644628099173,\n",
              " 'eval_GOAL recall': 0.8738095238095238,\n",
              " 'eval_PREG f1': 0.7018701870187019,\n",
              " 'eval_PREG precision': 0.6659707724425887,\n",
              " 'eval_PREG recall': 0.7418604651162791,\n",
              " 'eval_SOCL f1': 0.6223337515683816,\n",
              " 'eval_SOCL precision': 0.6966292134831461,\n",
              " 'eval_SOCL recall': 0.562358276643991,\n",
              " 'eval_TRMT f1': 0.6340852130325815,\n",
              " 'eval_TRMT precision': 0.6503856041131105,\n",
              " 'eval_TRMT recall': 0.6185819070904646,\n",
              " 'eval_accuracy': 0.6892297432477492,\n",
              " 'eval_loss': 0.8818161487579346,\n",
              " 'eval_runtime': 101.108,\n",
              " 'eval_samples_per_second': 29.661}"
            ]
          },
          "metadata": {
            "tags": []
          },
          "execution_count": 17
        }
      ]
    },
    {
      "cell_type": "markdown",
      "metadata": {
        "id": "rSOMNeJYLxw-"
      },
      "source": [
        "This barchart displays the relative frequency of the question classes in each of our unannotated datasets."
      ]
    },
    {
      "cell_type": "code",
      "metadata": {
        "id": "qmdX_vD8hO7q",
        "colab": {
          "base_uri": "https://localhost:8080/",
          "height": 297
        },
        "outputId": "d0154c84-249b-4699-8066-832d998a3ae5"
      },
      "source": [
        "utils.make_grouped_bar_chart(COVID_pred_labels, icliniq_pred_labels)"
      ],
      "execution_count": null,
      "outputs": [
        {
          "output_type": "display_data",
          "data": {
            "image/png": "[encoded data removed]",
            "text/plain": [
              "<Figure size 432x288 with 1 Axes>"
            ]
          },
          "metadata": {
            "tags": [],
            "needs_background": "light"
          }
        }
      ]
    },
    {
      "cell_type": "markdown",
      "metadata": {
        "id": "kcQujtETMBtv"
      },
      "source": [
        "This heatmap displays a confusion matrix for the predicted and actual classes of the test dataset. Similar heatmaps can also be created for the COVID_annotated and icliniq_annotated datasets."
      ]
    },
    {
      "cell_type": "code",
      "metadata": {
        "id": "iTBtx7sUYy3y",
        "colab": {
          "base_uri": "https://localhost:8080/",
          "height": 279
        },
        "outputId": "d5d90734-997e-4931-e4e9-26138f6828f4"
      },
      "source": [
        "utils.make_misclassification_heatmap(test_dataset.labels, test_pred_labels)"
      ],
      "execution_count": null,
      "outputs": [
        {
          "output_type": "display_data",
          "data": {
            "image/png": "[encoded data removed]",
            "text/plain": [
              "<Figure size 432x288 with 2 Axes>"
            ]
          },
          "metadata": {
            "tags": [],
            "needs_background": "light"
          }
        }
      ]
    }
  ]
}